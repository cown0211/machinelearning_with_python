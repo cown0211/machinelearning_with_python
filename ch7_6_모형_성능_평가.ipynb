{
  "nbformat": 4,
  "nbformat_minor": 0,
  "metadata": {
    "colab": {
      "provenance": [],
      "collapsed_sections": [],
      "authorship_tag": "ABX9TyNy+Ompnw5qIJnXAxDwrJ0a",
      "include_colab_link": true
    },
    "kernelspec": {
      "name": "python3",
      "display_name": "Python 3"
    },
    "language_info": {
      "name": "python"
    }
  },
  "cells": [
    {
      "cell_type": "markdown",
      "metadata": {
        "id": "view-in-github",
        "colab_type": "text"
      },
      "source": [
        "<a href=\"https://colab.research.google.com/github/cown0211/machinelearning_with_python/blob/main/ch7_6_%EB%AA%A8%ED%98%95_%EC%84%B1%EB%8A%A5_%ED%8F%89%EA%B0%80.ipynb\" target=\"_parent\"><img src=\"https://colab.research.google.com/assets/colab-badge.svg\" alt=\"Open In Colab\"/></a>"
      ]
    },
    {
      "cell_type": "markdown",
      "source": [
        "# 7.6.2 분류 문제에서의 성능 평가\n",
        "---"
      ],
      "metadata": {
        "id": "g154zY5g01_Y"
      }
    },
    {
      "cell_type": "markdown",
      "source": [
        "\n",
        "\n",
        "*   정확도\n",
        "\n",
        "\n"
      ],
      "metadata": {
        "id": "jukWziKM5IdA"
      }
    },
    {
      "cell_type": "code",
      "execution_count": null,
      "metadata": {
        "id": "gmlaTQ1WMKKu",
        "colab": {
          "base_uri": "https://localhost:8080/"
        },
        "outputId": "211ce5d9-2360-4ab7-95cd-c831e21afc84"
      },
      "outputs": [
        {
          "output_type": "stream",
          "name": "stdout",
          "text": [
            "0.5\n",
            "2\n"
          ]
        }
      ],
      "source": [
        "from sklearn.metrics import accuracy_score\n",
        "y_pred = [0, 2, 1, 3]\n",
        "y_true = [0, 1, 2, 3]\n",
        "print(accuracy_score(y_true, y_pred))  # normalize = true라 0~1로 나타냄\n",
        "\n",
        "print(accuracy_score(y_true, y_pred, normalize = False))\n",
        "# normalize = False이면 0~1의 확률값이 아닌 빈도수(4개 중 2개)로 표현"
      ]
    },
    {
      "cell_type": "markdown",
      "source": [
        "* confusion matrix"
      ],
      "metadata": {
        "id": "-Hf6nyCB5TFs"
      }
    },
    {
      "cell_type": "code",
      "source": [
        "from sklearn.metrics import confusion_matrix\n",
        "y_true = [2, 0, 2, 2, 0, 1]\n",
        "y_pred = [0, 0, 2, 2, 0, 2]\n",
        "confusion_matrix(y_true, y_pred)\n",
        "# y_true와 y_pred가 일치하는 빈도수를 나타내줌\n",
        "# 1행1열; 실제0예측0\n",
        "# 1행2열; 실제0예측1\n",
        "# 2행3열; 실제1예측2\n",
        "# 3행3열; 실제2예측2"
      ],
      "metadata": {
        "colab": {
          "base_uri": "https://localhost:8080/"
        },
        "id": "mQ_OslvE15Zy",
        "outputId": "d3eedcb4-b850-42de-887c-ee5f865b5b8f"
      },
      "execution_count": null,
      "outputs": [
        {
          "output_type": "execute_result",
          "data": {
            "text/plain": [
              "array([[2, 0, 0],\n",
              "       [0, 0, 1],\n",
              "       [1, 0, 2]])"
            ]
          },
          "metadata": {},
          "execution_count": 4
        }
      ]
    },
    {
      "cell_type": "markdown",
      "source": [
        "* classification report"
      ],
      "metadata": {
        "id": "D6MngxIr556G"
      }
    },
    {
      "cell_type": "code",
      "source": [
        "from sklearn.metrics import classification_report\n",
        "y_true = [0, 1, 2, 2, 0]\n",
        "y_pred = [0, 0, 2, 1, 0]\n",
        "target_names = ['class 0', 'class 1', 'class 2']\n",
        "print(confusion_matrix(y_true, y_pred))\n",
        "\n",
        "print(classification_report(y_true, y_pred, target_names = target_names))\n",
        "# 전체 accuracy = 0.6\n",
        "# 각 클래스의 support는 빈도수\n",
        "# precision; class0; 2/3\n",
        "# recall; class2; 1/2\n",
        "\n",
        "# macro avg; 단순평균 -> precision의 macro avg = (0.67 + 0 + 1) / 3\n",
        "# weighted avg; 가중평균 -> precision의 weighted avg = (0.67*2 + 0*1 + 1*2) / (2+1+2)"
      ],
      "metadata": {
        "colab": {
          "base_uri": "https://localhost:8080/"
        },
        "id": "04lW1bkg3J50",
        "outputId": "84631758-d155-42bd-cd30-247a65d461b1"
      },
      "execution_count": null,
      "outputs": [
        {
          "output_type": "stream",
          "name": "stdout",
          "text": [
            "[[2 0 0]\n",
            " [1 0 0]\n",
            " [0 1 1]]\n",
            "              precision    recall  f1-score   support\n",
            "\n",
            "     class 0       0.67      1.00      0.80         2\n",
            "     class 1       0.00      0.00      0.00         1\n",
            "     class 2       1.00      0.50      0.67         2\n",
            "\n",
            "    accuracy                           0.60         5\n",
            "   macro avg       0.56      0.50      0.49         5\n",
            "weighted avg       0.67      0.60      0.59         5\n",
            "\n"
          ]
        }
      ]
    },
    {
      "cell_type": "markdown",
      "source": [
        "---"
      ],
      "metadata": {
        "id": "BmjkgJHA3vre"
      }
    },
    {
      "cell_type": "markdown",
      "source": [
        "# 7.6.3 회귀 문제에서의 성능 평가\n",
        "---"
      ],
      "metadata": {
        "id": "U96uHblArGyn"
      }
    },
    {
      "cell_type": "markdown",
      "source": [
        "\n",
        "\n",
        "* MAE(Mean Absolute Error)\n",
        "\n",
        "예측값과 실제값의 차이의 절대값의 평균\n",
        "\n",
        "sum( |y - y_hat| ) / n\n",
        "\n"
      ],
      "metadata": {
        "id": "dICzP8DvrQF4"
      }
    },
    {
      "cell_type": "code",
      "source": [
        "from sklearn.metrics import mean_absolute_error\n",
        "y_true = [3, -0.5, 2, 7]\n",
        "y_pred = [2.5, 0, 2, 8]\n",
        "\n",
        "print(mean_absolute_error(y_true, y_pred))"
      ],
      "metadata": {
        "colab": {
          "base_uri": "https://localhost:8080/"
        },
        "id": "OBAY-FMprLbB",
        "outputId": "60ca3146-7c22-4caa-a911-117c54ac030b"
      },
      "execution_count": 1,
      "outputs": [
        {
          "output_type": "stream",
          "name": "stdout",
          "text": [
            "0.5\n"
          ]
        }
      ]
    },
    {
      "cell_type": "markdown",
      "source": [
        "* MSE(Mean Squared Error)\n",
        "\n",
        "오차의 제곱합의 평균\n",
        "\n",
        "sum( (y - y_hat)^2 ) / n"
      ],
      "metadata": {
        "id": "zalEq7LcsWXw"
      }
    },
    {
      "cell_type": "code",
      "source": [
        "from sklearn.metrics import mean_squared_error\n",
        "y_true = [3, -0.5, 2, 7]\n",
        "y_pred = [2.5, 0, 2, 8]\n",
        "\n",
        "print(mean_squared_error(y_true, y_pred))"
      ],
      "metadata": {
        "colab": {
          "base_uri": "https://localhost:8080/"
        },
        "id": "6dDM0LFEsoJo",
        "outputId": "1ad7bf33-6125-494a-cf35-d49c23c4a63e"
      },
      "execution_count": 2,
      "outputs": [
        {
          "output_type": "stream",
          "name": "stdout",
          "text": [
            "0.375\n"
          ]
        }
      ]
    },
    {
      "cell_type": "markdown",
      "source": [
        "* R^2 Score\n",
        "\n",
        "전체 모형에서 설명 가능한 분산의 비율\n",
        "0~1 값을 가지며 1에 가까울수록 높은 성능\n",
        "\n",
        "1 - sum( (y - y_hat)^2 ) / sum( (y - y_mean)^2 )"
      ],
      "metadata": {
        "id": "rlAe2Ex9s-Ly"
      }
    },
    {
      "cell_type": "code",
      "source": [
        "from sklearn.metrics import r2_score\n",
        "y_true = [3, -0.5, 2, 7]\n",
        "y_pred = [2.5, 0, 2, 8]\n",
        "\n",
        "print(r2_score(y_true, y_pred))"
      ],
      "metadata": {
        "colab": {
          "base_uri": "https://localhost:8080/"
        },
        "id": "PA4xVMKEtUqB",
        "outputId": "d6dbab17-522c-41fa-ac30-5c2aec683cd4"
      },
      "execution_count": 3,
      "outputs": [
        {
          "output_type": "stream",
          "name": "stdout",
          "text": [
            "0.9486081370449679\n"
          ]
        }
      ]
    },
    {
      "cell_type": "markdown",
      "source": [
        "---"
      ],
      "metadata": {
        "id": "M8dQJTVltqT_"
      }
    },
    {
      "cell_type": "markdown",
      "source": [
        "# 7.6.4 군집 문제에서의 성능 평가\n",
        "---"
      ],
      "metadata": {
        "id": "HJ8yc9MTtrFD"
      }
    },
    {
      "cell_type": "markdown",
      "source": [
        "* 실루엣 스코어(silhouette score)\n",
        "\n",
        "서로 다른 군집이 얼마나 잘 분리되는지 지표로 -1~1의 값을 가지며 1에 가까울수록 좋은 성능\n",
        "\n",
        "같은 집단 내 데이터 거리 평균; a\n",
        "\n",
        "(타 군집 별)다른 집단 데이터와의 거리 평균의 최소값; b\n",
        "\n",
        "(b - a) / max(a,b)"
      ],
      "metadata": {
        "id": "_DCYpZBevPiW"
      }
    },
    {
      "cell_type": "code",
      "source": [
        "from sklearn.metrics import silhouette_score\n",
        "x = [[1, 2], [4, 5], [2, 1], [6, 7], [2, 3]] # 각각의 포인트\n",
        "labels = [0, 1, 0, 1, 0] # 각 포인트에 대응하는 군집(class)\n",
        "\n",
        "sil_score = silhouette_score(x, labels)\n",
        "print(sil_score)"
      ],
      "metadata": {
        "colab": {
          "base_uri": "https://localhost:8080/"
        },
        "id": "3EJBWoEJttWQ",
        "outputId": "b9ac067a-fdc5-4b06-f78a-ee754c756ac7"
      },
      "execution_count": 5,
      "outputs": [
        {
          "output_type": "stream",
          "name": "stdout",
          "text": [
            "0.5789497702625118\n"
          ]
        }
      ]
    },
    {
      "cell_type": "markdown",
      "source": [
        "---"
      ],
      "metadata": {
        "id": "0P93Q7TsvOmq"
      }
    }
  ]
}