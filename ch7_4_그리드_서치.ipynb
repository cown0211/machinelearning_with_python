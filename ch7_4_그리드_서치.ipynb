{
  "nbformat": 4,
  "nbformat_minor": 0,
  "metadata": {
    "colab": {
      "provenance": [],
      "collapsed_sections": [],
      "authorship_tag": "ABX9TyP2wPWxwFe8EJBYgLyYoOTZ",
      "include_colab_link": true
    },
    "kernelspec": {
      "name": "python3",
      "display_name": "Python 3"
    },
    "language_info": {
      "name": "python"
    }
  },
  "cells": [
    {
      "cell_type": "markdown",
      "metadata": {
        "id": "view-in-github",
        "colab_type": "text"
      },
      "source": [
        "<a href=\"https://colab.research.google.com/github/cown0211/machinelearning_with_python/blob/main/ch7_4_%EA%B7%B8%EB%A6%AC%EB%93%9C_%EC%84%9C%EC%B9%98.ipynb\" target=\"_parent\"><img src=\"https://colab.research.google.com/assets/colab-badge.svg\" alt=\"Open In Colab\"/></a>"
      ]
    },
    {
      "cell_type": "code",
      "execution_count": 1,
      "metadata": {
        "id": "p7DRjsTFIEir"
      },
      "outputs": [],
      "source": [
        "from sklearn import datasets\n",
        "from sklearn.preprocessing import StandardScaler\n",
        "from sklearn.neighbors import KNeighborsClassifier\n",
        "from sklearn.model_selection import train_test_split\n",
        "\n",
        "# 정확도 관련\n",
        "from sklearn.metrics import accuracy_score\n",
        "from sklearn.metrics import confusion_matrix\n",
        "from sklearn.metrics import classification_report"
      ]
    },
    {
      "cell_type": "code",
      "source": [
        "raw_iris = datasets.load_iris()\n",
        "\n",
        "x = raw_iris.data\n",
        "y = raw_iris.target"
      ],
      "metadata": {
        "id": "9_LUNSRIGWQh"
      },
      "execution_count": 3,
      "outputs": []
    },
    {
      "cell_type": "code",
      "source": [
        "x_tn, x_te, y_tn, y_te = train_test_split(x, y, random_state = 0)\n",
        "\n",
        "# train, test 분할"
      ],
      "metadata": {
        "id": "21gvGcbUGubQ"
      },
      "execution_count": 4,
      "outputs": []
    },
    {
      "cell_type": "code",
      "source": [
        "std_scale = StandardScaler()\n",
        "std_scale.fit(x_tn)\n",
        "x_tn_std = std_scale.transform(x_tn)\n",
        "x_te_std = std_scale.transform(x_te)\n",
        "\n",
        "# 스케일링"
      ],
      "metadata": {
        "id": "TWaEWM7FHion"
      },
      "execution_count": 6,
      "outputs": []
    },
    {
      "cell_type": "markdown",
      "source": [
        "\n",
        "\n",
        "\n",
        "*   최적의 하이퍼파라미터를 찾기 위한 탐색법\n",
        "\n",
        "*   knn 알고리즘을 예로 들어 최고의 성능을 보이는 k를 찾기 위해 k의 모든 후보군을 다 활용하여 모델링하고 최적의 k를 정하는 과정\n",
        "\n",
        "\n"
      ],
      "metadata": {
        "id": "WQYwXJ85Ki4R"
      }
    },
    {
      "cell_type": "code",
      "source": [
        "best_accuracy = 0\n",
        "\n",
        "for k in [1,2,3,4,5,6,7,8,9,10]:\n",
        "  clf_knn = KNeighborsClassifier(n_neighbors = k)\n",
        "  clf_knn.fit(x_tn_std, y_tn)\n",
        "  knn_pred = clf_knn.predict(x_te_std)\n",
        "  accuracy = accuracy_score(y_te, knn_pred)\n",
        "\n",
        "  if accuracy > best_accuracy:\n",
        "    best_accuracy = accuracy\n",
        "    final_k = k\n",
        "\n",
        "  print('k =', k)\n",
        "  print('accuracy:', accuracy)\n",
        "  print('final_k =', final_k)\n",
        "  print('best_accuracy:', best_accuracy, '\\n')\n"
      ],
      "metadata": {
        "colab": {
          "base_uri": "https://localhost:8080/"
        },
        "id": "BC2L-xjHHuxA",
        "outputId": "88e55bba-aba5-402f-c106-a1a0149946fd"
      },
      "execution_count": 24,
      "outputs": [
        {
          "output_type": "stream",
          "name": "stdout",
          "text": [
            "k = 1\n",
            "accuracy: 0.9210526315789473\n",
            "final_k = 1\n",
            "best_accuracy: 0.9210526315789473 \n",
            "\n",
            "k = 2\n",
            "accuracy: 0.9473684210526315\n",
            "final_k = 2\n",
            "best_accuracy: 0.9473684210526315 \n",
            "\n",
            "k = 3\n",
            "accuracy: 0.9736842105263158\n",
            "final_k = 3\n",
            "best_accuracy: 0.9736842105263158 \n",
            "\n",
            "k = 4\n",
            "accuracy: 0.9736842105263158\n",
            "final_k = 3\n",
            "best_accuracy: 0.9736842105263158 \n",
            "\n",
            "k = 5\n",
            "accuracy: 0.9736842105263158\n",
            "final_k = 3\n",
            "best_accuracy: 0.9736842105263158 \n",
            "\n",
            "k = 6\n",
            "accuracy: 0.9736842105263158\n",
            "final_k = 3\n",
            "best_accuracy: 0.9736842105263158 \n",
            "\n",
            "k = 7\n",
            "accuracy: 0.9736842105263158\n",
            "final_k = 3\n",
            "best_accuracy: 0.9736842105263158 \n",
            "\n",
            "k = 8\n",
            "accuracy: 0.9736842105263158\n",
            "final_k = 3\n",
            "best_accuracy: 0.9736842105263158 \n",
            "\n",
            "k = 9\n",
            "accuracy: 0.9736842105263158\n",
            "final_k = 3\n",
            "best_accuracy: 0.9736842105263158 \n",
            "\n",
            "k = 10\n",
            "accuracy: 0.9736842105263158\n",
            "final_k = 3\n",
            "best_accuracy: 0.9736842105263158 \n",
            "\n"
          ]
        }
      ]
    }
  ]
}