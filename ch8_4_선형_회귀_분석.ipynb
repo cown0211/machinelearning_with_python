{
  "nbformat": 4,
  "nbformat_minor": 0,
  "metadata": {
    "colab": {
      "provenance": [],
      "collapsed_sections": [],
      "authorship_tag": "ABX9TyNTE17RJnrRKGJHp2pa6wDg",
      "include_colab_link": true
    },
    "kernelspec": {
      "name": "python3",
      "display_name": "Python 3"
    },
    "language_info": {
      "name": "python"
    }
  },
  "cells": [
    {
      "cell_type": "markdown",
      "metadata": {
        "id": "view-in-github",
        "colab_type": "text"
      },
      "source": [
        "<a href=\"https://colab.research.google.com/github/cown0211/machinelearning_with_python/blob/main/ch8_4_%EC%84%A0%ED%98%95_%ED%9A%8C%EA%B7%80_%EB%B6%84%EC%84%9D.ipynb\" target=\"_parent\"><img src=\"https://colab.research.google.com/assets/colab-badge.svg\" alt=\"Open In Colab\"/></a>"
      ]
    },
    {
      "cell_type": "code",
      "execution_count": 1,
      "metadata": {
        "id": "pLAvAXSD1eGw",
        "colab": {
          "base_uri": "https://localhost:8080/"
        },
        "outputId": "f087716d-5d9d-4dff-f6b3-88f16623512a"
      },
      "outputs": [
        {
          "output_type": "stream",
          "name": "stderr",
          "text": [
            "/usr/local/lib/python3.7/dist-packages/sklearn/utils/deprecation.py:87: FutureWarning: Function load_boston is deprecated; `load_boston` is deprecated in 1.0 and will be removed in 1.2.\n",
            "\n",
            "    The Boston housing prices dataset has an ethical problem. You can refer to\n",
            "    the documentation of this function for further details.\n",
            "\n",
            "    The scikit-learn maintainers therefore strongly discourage the use of this\n",
            "    dataset unless the purpose of the code is to study and educate about\n",
            "    ethical issues in data science and machine learning.\n",
            "\n",
            "    In this special case, you can fetch the dataset from the original\n",
            "    source::\n",
            "\n",
            "        import pandas as pd\n",
            "        import numpy as np\n",
            "\n",
            "\n",
            "        data_url = \"http://lib.stat.cmu.edu/datasets/boston\"\n",
            "        raw_df = pd.read_csv(data_url, sep=\"\\s+\", skiprows=22, header=None)\n",
            "        data = np.hstack([raw_df.values[::2, :], raw_df.values[1::2, :2]])\n",
            "        target = raw_df.values[1::2, 2]\n",
            "\n",
            "    Alternative datasets include the California housing dataset (i.e.\n",
            "    :func:`~sklearn.datasets.fetch_california_housing`) and the Ames housing\n",
            "    dataset. You can load the datasets as follows::\n",
            "\n",
            "        from sklearn.datasets import fetch_california_housing\n",
            "        housing = fetch_california_housing()\n",
            "\n",
            "    for the California housing dataset and::\n",
            "\n",
            "        from sklearn.datasets import fetch_openml\n",
            "        housing = fetch_openml(name=\"house_prices\", as_frame=True)\n",
            "\n",
            "    for the Ames housing dataset.\n",
            "    \n",
            "  warnings.warn(msg, category=FutureWarning)\n"
          ]
        }
      ],
      "source": [
        "# 데이터 로드\n",
        "\n",
        "from sklearn import datasets\n",
        "raw_boston = datasets.load_boston()"
      ]
    },
    {
      "cell_type": "code",
      "source": [
        "# 타겟 y와 변수 x 분할\n",
        "\n",
        "x = raw_boston.data\n",
        "y = raw_boston.target"
      ],
      "metadata": {
        "id": "-OFGm8pi1CtI"
      },
      "execution_count": 2,
      "outputs": []
    },
    {
      "cell_type": "code",
      "source": [
        "# train/test 분할\n",
        "\n",
        "from sklearn.model_selection import train_test_split\n",
        "x_tn, x_te, y_tn, y_te = train_test_split(x, y, random_state = 1)"
      ],
      "metadata": {
        "id": "oMCmaUf81Kk1"
      },
      "execution_count": 4,
      "outputs": []
    },
    {
      "cell_type": "code",
      "source": [
        "# 데이터 표준화\n",
        "\n",
        "from sklearn.preprocessing import StandardScaler\n",
        "std_scale = StandardScaler()\n",
        "std_scale.fit(x_tn)\n",
        "x_tn_std = std_scale.transform(x_tn)\n",
        "x_te_std = std_scale.transform(x_te)"
      ],
      "metadata": {
        "id": "Vc_i3neR1jto"
      },
      "execution_count": 6,
      "outputs": []
    },
    {
      "cell_type": "markdown",
      "source": [
        "# 선형 회귀 분석\n",
        "---"
      ],
      "metadata": {
        "id": "1Kl4MCjs4EiS"
      }
    },
    {
      "cell_type": "code",
      "source": [
        "# 모형 적합\n",
        "\n",
        "from sklearn.linear_model import LinearRegression\n",
        "clf_lr = LinearRegression()\n",
        "clf_lr.fit(x_tn_std, y_tn)"
      ],
      "metadata": {
        "colab": {
          "base_uri": "https://localhost:8080/"
        },
        "id": "yTuq1vCB17Z-",
        "outputId": "18adc1ce-9375-4705-cb3c-b6051d845cb3"
      },
      "execution_count": 7,
      "outputs": [
        {
          "output_type": "execute_result",
          "data": {
            "text/plain": [
              "LinearRegression()"
            ]
          },
          "metadata": {},
          "execution_count": 7
        }
      ]
    },
    {
      "cell_type": "code",
      "source": [
        "# 선형 회귀 분석 계수, 상수항 확인\n",
        "\n",
        "print(\"계수:\", clf_lr.coef_, \"\\n\") # 계수 = 각 변수 x에 대한 계수\n",
        "print(\"상수항:\", clf_lr.intercept_) # 상수항 = y 절편"
      ],
      "metadata": {
        "colab": {
          "base_uri": "https://localhost:8080/"
        },
        "id": "w-uyzrnD2JhY",
        "outputId": "e6b92bcd-57e7-4c1b-8c82-4cf26535e3a3"
      },
      "execution_count": 17,
      "outputs": [
        {
          "output_type": "stream",
          "name": "stdout",
          "text": [
            "계수: [-1.07145146  1.34036243  0.26298069  0.66554537 -2.49842551  1.97524314\n",
            "  0.19516605 -3.14274974  2.66736136 -1.80685572 -2.13034748  0.56172933\n",
            " -4.03223518] \n",
            "\n",
            "상수항: 22.344591029023768\n"
          ]
        }
      ]
    },
    {
      "cell_type": "markdown",
      "source": [
        "---"
      ],
      "metadata": {
        "id": "h3anB_8P4KLZ"
      }
    },
    {
      "cell_type": "markdown",
      "source": [
        "# L2 제약식 적용, 릿지 회귀 분석\n",
        "---"
      ],
      "metadata": {
        "id": "uSLzYjyp4RY8"
      }
    },
    {
      "cell_type": "code",
      "source": [
        "# 모형 적합\n",
        "\n",
        "from sklearn.linear_model import Ridge\n",
        "clf_ridge = Ridge(alpha = 100) # alpha의 기본값은 1\n",
        "clf_ridge.fit(x_tn_std, y_tn)\n",
        "\n",
        "# Ridge()에서의 alpha는 라그랑주 프리멀 함수의 lambda와 같음, 기본값은 1\n",
        "# alpha가 0에 가까울수록, 최소 제곱 추정량에 가까워짐\n",
        "# alpha가 무한에 가까울수록, 릿지해는 0에 가까워짐 -> 상수항만 남는 모형"
      ],
      "metadata": {
        "colab": {
          "base_uri": "https://localhost:8080/"
        },
        "id": "19DTBTzL2pdj",
        "outputId": "5ffdafd5-ff24-4f03-85cc-457ba0337bea"
      },
      "execution_count": 46,
      "outputs": [
        {
          "output_type": "execute_result",
          "data": {
            "text/plain": [
              "Ridge(alpha=100)"
            ]
          },
          "metadata": {},
          "execution_count": 46
        }
      ]
    },
    {
      "cell_type": "code",
      "source": [
        "# 릿지 회귀 분석 계수, 상수항 확인\n",
        "\n",
        "print(\"계수:\", clf_ridge.coef_, \"\\n\")\n",
        "print(\"상수항:\", clf_ridge.intercept_)"
      ],
      "metadata": {
        "colab": {
          "base_uri": "https://localhost:8080/"
        },
        "id": "6Zd3hfzh3LQb",
        "outputId": "25712e84-a30f-4948-e6bf-61ab5d981752"
      },
      "execution_count": 47,
      "outputs": [
        {
          "output_type": "stream",
          "name": "stdout",
          "text": [
            "계수: [-0.71351739  0.5764225  -0.35700495  0.68573874 -0.99769314  2.24950578\n",
            " -0.23260543 -1.35268471  0.51015876 -0.34757537 -1.60915641  0.56796918\n",
            " -2.85954355] \n",
            "\n",
            "상수항: 22.344591029023764\n"
          ]
        }
      ]
    },
    {
      "cell_type": "markdown",
      "source": [
        "---"
      ],
      "metadata": {
        "id": "I7YzoY5D1oX-"
      }
    },
    {
      "cell_type": "markdown",
      "source": [
        "# L1 제약식 적용, 라쏘 회귀 분석\n",
        "---"
      ],
      "metadata": {
        "id": "Edb2Mz7b4Ygw"
      }
    },
    {
      "cell_type": "code",
      "source": [
        "# 모형 적합\n",
        "\n",
        "from sklearn.linear_model import Lasso\n",
        "clf_lasso = Lasso(alpha = 0.001) # Ridge의 alpha와 똑같은 역할, 기본값은 1\n",
        "clf_lasso.fit(x_tn_std, y_tn)"
      ],
      "metadata": {
        "colab": {
          "base_uri": "https://localhost:8080/"
        },
        "id": "V84nHY-W3-k4",
        "outputId": "fa704a5e-5689-4dcf-be87-18703f0fe2de"
      },
      "execution_count": 37,
      "outputs": [
        {
          "output_type": "execute_result",
          "data": {
            "text/plain": [
              "Lasso(alpha=0.001)"
            ]
          },
          "metadata": {},
          "execution_count": 37
        }
      ]
    },
    {
      "cell_type": "code",
      "source": [
        "# 라쏘 회귀 분석 계수, 상수항 확인\n",
        "\n",
        "print(\"계수:\", clf_lasso.coef_, \"\\n\")\n",
        "print(\"상수항:\", clf_lasso.intercept_)"
      ],
      "metadata": {
        "colab": {
          "base_uri": "https://localhost:8080/"
        },
        "id": "fZfqBOZi4-qC",
        "outputId": "a061317e-743d-48c7-fec3-2adeac10525e"
      },
      "execution_count": 38,
      "outputs": [
        {
          "output_type": "stream",
          "name": "stdout",
          "text": [
            "계수: [-1.06862919  1.33405872  0.25343506  0.66575271 -2.49015836  1.97697978\n",
            "  0.19035571 -3.1379442   2.64702454 -1.78668828 -2.12836559  0.56075781\n",
            " -4.02979744] \n",
            "\n",
            "상수항: 22.344591029023768\n"
          ]
        }
      ]
    },
    {
      "cell_type": "markdown",
      "source": [
        "---"
      ],
      "metadata": {
        "id": "n6ixQQpP5Svv"
      }
    },
    {
      "cell_type": "markdown",
      "source": [
        "# 엘라스틱 넷\n",
        "---"
      ],
      "metadata": {
        "id": "LM2ZGWBs5WNk"
      }
    },
    {
      "cell_type": "code",
      "source": [
        "# 모형 적합\n",
        "\n",
        "from sklearn.linear_model import ElasticNet\n",
        "clf_elastic = ElasticNet(alpha = 0.01, l1_ratio = 0.01) # alpha = L1 제약식의 크기 + L2 제약식의 크기 = 전체 제약식의 크기\n",
        "clf_elastic.fit(x_tn_std, y_tn)\n",
        "\n",
        "# l1_ratio는 alpha 값에서 L1 제약이 차지하는 비율 ~ 0과 1사이의 값을 가짐\n",
        "# l1_ratio = 0 -> L2 제약만 적용하는 Ridge 의미"
      ],
      "metadata": {
        "colab": {
          "base_uri": "https://localhost:8080/"
        },
        "id": "SxaVXKgo5Yeq",
        "outputId": "974fc866-c724-4475-fc5a-ea23bd8ba224"
      },
      "execution_count": 39,
      "outputs": [
        {
          "output_type": "execute_result",
          "data": {
            "text/plain": [
              "ElasticNet(alpha=0.01, l1_ratio=0.01)"
            ]
          },
          "metadata": {},
          "execution_count": 39
        }
      ]
    },
    {
      "cell_type": "code",
      "source": [
        "# 엘라스틱 넷 회귀 분석 계수, 상수항 확인\n",
        "\n",
        "print(\"계수:\", clf_elastic.coef_, \"\\n\")\n",
        "print(\"상수항:\", clf_elastic.intercept_)"
      ],
      "metadata": {
        "colab": {
          "base_uri": "https://localhost:8080/"
        },
        "id": "jvpKLXQc6HnT",
        "outputId": "d5fa1ffa-fc7f-4e5f-e031-bbb1adaba443"
      },
      "execution_count": 40,
      "outputs": [
        {
          "output_type": "stream",
          "name": "stdout",
          "text": [
            "계수: [-1.02916603  1.23681955  0.15236504  0.67859622 -2.34646781  2.02965524\n",
            "  0.14575132 -2.98592423  2.32013379 -1.48829485 -2.09271972  0.56506801\n",
            " -3.9495281 ] \n",
            "\n",
            "상수항: 22.344591029023768\n"
          ]
        }
      ]
    },
    {
      "cell_type": "markdown",
      "source": [
        "---"
      ],
      "metadata": {
        "id": "O4-MTn6D6GbS"
      }
    },
    {
      "cell_type": "markdown",
      "source": [
        "# 데이터 예측 및 평가\n",
        "---"
      ],
      "metadata": {
        "id": "lLPMMCOT6YiL"
      }
    },
    {
      "cell_type": "code",
      "source": [
        "# 각 모형에 대한 예측값 측정\n",
        "\n",
        "pred_lr = clf_lr.predict(x_te_std)\n",
        "pred_ridge = clf_ridge.predict(x_te_std)\n",
        "pred_lasso = clf_lasso.predict(x_te_std)\n",
        "pred_elastic = clf_elastic.predict(x_te_std)"
      ],
      "metadata": {
        "id": "PF-M-7Ul6ah1"
      },
      "execution_count": 48,
      "outputs": []
    },
    {
      "cell_type": "code",
      "source": [
        "# 모형 평가 - Rsquared\n",
        "\n",
        "from sklearn.metrics import r2_score\n",
        "print(\"선형 회귀:\", r2_score(y_te, pred_lr), \"\\n\")\n",
        "print(\"릿지 회귀:\", r2_score(y_te, pred_ridge), \"\\n\")\n",
        "print(\"라쏘 회귀:\", r2_score(y_te, pred_lasso), \"\\n\")\n",
        "print(\"엘라스틱 회귀:\", r2_score(y_te, pred_elastic))\n",
        "\n",
        "# Rsq 값은 0과 1 사이 값을 가지며 1에 가까울수록 높은 성능"
      ],
      "metadata": {
        "colab": {
          "base_uri": "https://localhost:8080/"
        },
        "id": "A7XWHAsA6rKF",
        "outputId": "58a642f8-2d0e-47a7-db29-ca6ce0e5e1b9"
      },
      "execution_count": 49,
      "outputs": [
        {
          "output_type": "stream",
          "name": "stdout",
          "text": [
            "선형 회귀: 0.7789410172622859 \n",
            "\n",
            "릿지 회귀: 0.7378492007635227 \n",
            "\n",
            "라쏘 회귀: 0.778933541111184 \n",
            "\n",
            "엘라스틱 회귀: 0.7787876079239252\n"
          ]
        }
      ]
    },
    {
      "cell_type": "code",
      "source": [
        "# 모형 평가 - MSE\n",
        "\n",
        "from sklearn.metrics import mean_squared_error\n",
        "print(\"선형 회귀:\", mean_squared_error(y_te, pred_lr), \"\\n\")\n",
        "print(\"릿지 회귀:\", mean_squared_error(y_te, pred_ridge), \"\\n\")\n",
        "print(\"라쏘 회귀:\", mean_squared_error(y_te, pred_lasso), \"\\n\")\n",
        "print(\"엘라스틱 회귀:\", mean_squared_error(y_te, pred_elastic))\n",
        "\n",
        "# MSE는 작을수록 좋은 성능"
      ],
      "metadata": {
        "colab": {
          "base_uri": "https://localhost:8080/"
        },
        "id": "t5ACEnBj7YxC",
        "outputId": "8d3b6df4-d6ba-4a2a-c3de-a97460811dd6"
      },
      "execution_count": 51,
      "outputs": [
        {
          "output_type": "stream",
          "name": "stdout",
          "text": [
            "선형 회귀: 21.897765396049483 \n",
            "\n",
            "릿지 회귀: 25.968258014099145 \n",
            "\n",
            "라쏘 회귀: 21.89850597216572 \n",
            "\n",
            "엘라스틱 회귀: 21.91296189093687\n"
          ]
        }
      ]
    },
    {
      "cell_type": "markdown",
      "source": [
        "---"
      ],
      "metadata": {
        "id": "E7dguvbd7ZDz"
      }
    }
  ]
}