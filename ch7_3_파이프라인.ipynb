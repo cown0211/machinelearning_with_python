{
  "nbformat": 4,
  "nbformat_minor": 0,
  "metadata": {
    "colab": {
      "provenance": [],
      "collapsed_sections": [],
      "authorship_tag": "ABX9TyN+R/3oVa/7B477jNTzd2MC",
      "include_colab_link": true
    },
    "kernelspec": {
      "name": "python3",
      "display_name": "Python 3"
    },
    "language_info": {
      "name": "python"
    }
  },
  "cells": [
    {
      "cell_type": "markdown",
      "metadata": {
        "id": "view-in-github",
        "colab_type": "text"
      },
      "source": [
        "<a href=\"https://colab.research.google.com/github/cown0211/machinelearning_with_python/blob/main/ch7_3_%ED%8C%8C%EC%9D%B4%ED%94%84%EB%9D%BC%EC%9D%B8.ipynb\" target=\"_parent\"><img src=\"https://colab.research.google.com/assets/colab-badge.svg\" alt=\"Open In Colab\"/></a>"
      ]
    },
    {
      "cell_type": "markdown",
      "source": [
        "*   데이터 전처리와 학습 모형을 연결해 코드를 간결화할 수 있음"
      ],
      "metadata": {
        "id": "XIp9S_2_9kRr"
      }
    },
    {
      "cell_type": "code",
      "execution_count": 3,
      "metadata": {
        "id": "4WCzRUi67x6Z"
      },
      "outputs": [],
      "source": [
        "from sklearn import datasets # 데이터 셋\n",
        "from sklearn.pipeline import Pipeline # 파이프라인\n",
        "from sklearn.preprocessing import StandardScaler # 스케일러\n",
        "from sklearn.linear_model import LinearRegression # 선형회귀모형\n",
        "from sklearn.model_selection import train_test_split # train, test 분할\n",
        "from sklearn.metrics import mean_squared_error # 모형 평가"
      ]
    },
    {
      "cell_type": "code",
      "source": [
        "raw_boston = datasets.load_boston()\n",
        "\n",
        "x = raw_boston.data\n",
        "y = raw_boston.target"
      ],
      "metadata": {
        "colab": {
          "base_uri": "https://localhost:8080/"
        },
        "id": "LLk3Du2l-HEu",
        "outputId": "da7d20a1-527a-45f1-cc67-923221bad192"
      },
      "execution_count": 6,
      "outputs": [
        {
          "output_type": "stream",
          "name": "stderr",
          "text": [
            "/usr/local/lib/python3.7/dist-packages/sklearn/utils/deprecation.py:87: FutureWarning: Function load_boston is deprecated; `load_boston` is deprecated in 1.0 and will be removed in 1.2.\n",
            "\n",
            "    The Boston housing prices dataset has an ethical problem. You can refer to\n",
            "    the documentation of this function for further details.\n",
            "\n",
            "    The scikit-learn maintainers therefore strongly discourage the use of this\n",
            "    dataset unless the purpose of the code is to study and educate about\n",
            "    ethical issues in data science and machine learning.\n",
            "\n",
            "    In this special case, you can fetch the dataset from the original\n",
            "    source::\n",
            "\n",
            "        import pandas as pd\n",
            "        import numpy as np\n",
            "\n",
            "\n",
            "        data_url = \"http://lib.stat.cmu.edu/datasets/boston\"\n",
            "        raw_df = pd.read_csv(data_url, sep=\"\\s+\", skiprows=22, header=None)\n",
            "        data = np.hstack([raw_df.values[::2, :], raw_df.values[1::2, :2]])\n",
            "        target = raw_df.values[1::2, 2]\n",
            "\n",
            "    Alternative datasets include the California housing dataset (i.e.\n",
            "    :func:`~sklearn.datasets.fetch_california_housing`) and the Ames housing\n",
            "    dataset. You can load the datasets as follows::\n",
            "\n",
            "        from sklearn.datasets import fetch_california_housing\n",
            "        housing = fetch_california_housing()\n",
            "\n",
            "    for the California housing dataset and::\n",
            "\n",
            "        from sklearn.datasets import fetch_openml\n",
            "        housing = fetch_openml(name=\"house_prices\", as_frame=True)\n",
            "\n",
            "    for the Ames housing dataset.\n",
            "    \n",
            "  warnings.warn(msg, category=FutureWarning)\n"
          ]
        }
      ]
    },
    {
      "cell_type": "code",
      "source": [
        "# train, test 분할\n",
        "\n",
        "x_tn, x_te, y_tn, y_te = train_test_split(x, y, random_state = 7)\n",
        "# random_state는 시드 고정 역할"
      ],
      "metadata": {
        "id": "y6WxEqH2-VsU"
      },
      "execution_count": 7,
      "outputs": []
    },
    {
      "cell_type": "markdown",
      "source": [
        "# 파이프라인 사용 전 코드\n",
        "---"
      ],
      "metadata": {
        "id": "5K3qXnjPABH6"
      }
    },
    {
      "cell_type": "code",
      "source": [
        "# 표준화 스케일링\n",
        "\n",
        "std_scale = StandardScaler()\n",
        "x_tn_std = std_scale.fit_transform(x_tn)\n",
        "x_te_std = std_scale.transform(x_te)\n",
        "\n",
        "# train으로 fit_transform, test는 transform만"
      ],
      "metadata": {
        "id": "LZaolSMF-x-a"
      },
      "execution_count": 8,
      "outputs": []
    },
    {
      "cell_type": "markdown",
      "source": [
        "\n",
        "\n",
        "> 스케일러 따로 정의하고 train, test 데이터에 각각 반환 적용해야 함\n",
        "\n"
      ],
      "metadata": {
        "id": "3dtOUR_FF8tj"
      }
    },
    {
      "cell_type": "code",
      "source": [
        "# 모형 학습\n",
        "\n",
        "clf_linear = LinearRegression()\n",
        "clf_linear.fit(x_tn_std, y_tn)"
      ],
      "metadata": {
        "colab": {
          "base_uri": "https://localhost:8080/"
        },
        "id": "QPrkZnbo_a17",
        "outputId": "d6667080-8f9d-4135-bc63-96527912a593"
      },
      "execution_count": 9,
      "outputs": [
        {
          "output_type": "execute_result",
          "data": {
            "text/plain": [
              "LinearRegression()"
            ]
          },
          "metadata": {},
          "execution_count": 9
        }
      ]
    },
    {
      "cell_type": "markdown",
      "source": [
        "\n",
        "\n",
        "> 스케일링 된 데이터로 훈련시켜서 모형 학습\n",
        "\n"
      ],
      "metadata": {
        "id": "AY_B-JgZGC7A"
      }
    },
    {
      "cell_type": "code",
      "source": [
        "# 예측\n",
        "\n",
        "pred_linear = clf_linear.predict(x_te_std)"
      ],
      "metadata": {
        "id": "WbWYb9iF_krS"
      },
      "execution_count": 10,
      "outputs": []
    },
    {
      "cell_type": "markdown",
      "source": [
        "\n",
        "\n",
        "> test로 예측 시에도 스케일링 된 데이터 사용해야 함\n",
        "\n"
      ],
      "metadata": {
        "id": "n6Rhwo3WGLZA"
      }
    },
    {
      "cell_type": "code",
      "source": [
        "# 평가\n",
        "\n",
        "mean_squared_error(y_te, pred_linear)"
      ],
      "metadata": {
        "colab": {
          "base_uri": "https://localhost:8080/"
        },
        "id": "3T2iMBQE_ud3",
        "outputId": "37db8582-8adc-44ed-8000-c1ee5e63038b"
      },
      "execution_count": 11,
      "outputs": [
        {
          "output_type": "execute_result",
          "data": {
            "text/plain": [
              "29.515137790197567"
            ]
          },
          "metadata": {},
          "execution_count": 11
        }
      ]
    },
    {
      "cell_type": "markdown",
      "source": [
        "---"
      ],
      "metadata": {
        "id": "oy96D_IEAJcn"
      }
    },
    {
      "cell_type": "markdown",
      "source": [
        "# 파이프라인 사용 후 코드\n",
        "---"
      ],
      "metadata": {
        "id": "ei2BcNp6ANAF"
      }
    },
    {
      "cell_type": "code",
      "source": [
        "# 파이프라인\n",
        "\n",
        "linear_pipeline = Pipeline([\n",
        "    ('scaler', StandardScaler()),\n",
        "    ('linear_regression', LinearRegression())\n",
        "])\n",
        "# PIpeline() 함수로 스케일러랑 모델링 한큐에 해결"
      ],
      "metadata": {
        "id": "W8jtku3rAQvi"
      },
      "execution_count": 4,
      "outputs": []
    },
    {
      "cell_type": "markdown",
      "source": [
        "\n",
        "\n",
        "> Pipeline() 함수 하나로 스케일러, 모델, 학습, 예측까지 한 큐에 해결\n",
        "\n"
      ],
      "metadata": {
        "id": "jlDkmYs5GPgm"
      }
    },
    {
      "cell_type": "code",
      "source": [
        "# 모형 학습\n",
        "\n",
        "linear_pipeline.fit(x_tn, y_tn)"
      ],
      "metadata": {
        "colab": {
          "base_uri": "https://localhost:8080/"
        },
        "id": "mrmjlwHYBFen",
        "outputId": "06a2bc59-e4eb-4256-c38c-6bc867828a22"
      },
      "execution_count": 13,
      "outputs": [
        {
          "output_type": "execute_result",
          "data": {
            "text/plain": [
              "Pipeline(steps=[('scaler', StandardScaler()),\n",
              "                ('linear_regression', LinearRegression())])"
            ]
          },
          "metadata": {},
          "execution_count": 13
        }
      ]
    },
    {
      "cell_type": "markdown",
      "source": [
        "\n",
        "\n",
        "> 스케일링을 Pipeline()이 해주므로 원래 데이터 집어 넣으면 됨\n",
        "\n"
      ],
      "metadata": {
        "id": "5B4mM9eXGXIJ"
      }
    },
    {
      "cell_type": "code",
      "source": [
        "# 예측\n",
        "\n",
        "pred_linear = linear_pipeline.predict(x_te)"
      ],
      "metadata": {
        "id": "N8njv0eRB4hl"
      },
      "execution_count": 14,
      "outputs": []
    },
    {
      "cell_type": "markdown",
      "source": [
        "\n",
        "\n",
        "> 예측도 Pipeline() 통해서 하므로 스케일링을 따로 안하고 원데이터 넣음\n",
        "\n"
      ],
      "metadata": {
        "id": "qZBJ1c53GexO"
      }
    },
    {
      "cell_type": "code",
      "source": [
        "# 평가\n",
        "\n",
        "mean_squared_error(y_te, pred_linear)"
      ],
      "metadata": {
        "colab": {
          "base_uri": "https://localhost:8080/"
        },
        "id": "rrx81e8QCAKk",
        "outputId": "493ffc0f-7a1e-4d5a-afd2-5ecbaf4ddac6"
      },
      "execution_count": 15,
      "outputs": [
        {
          "output_type": "execute_result",
          "data": {
            "text/plain": [
              "29.515137790197567"
            ]
          },
          "metadata": {},
          "execution_count": 15
        }
      ]
    },
    {
      "cell_type": "markdown",
      "source": [
        "---"
      ],
      "metadata": {
        "id": "l4ZPiiu5BGJP"
      }
    }
  ]
}